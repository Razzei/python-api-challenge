{
 "cells": [
  {
   "cell_type": "markdown",
   "metadata": {},
   "source": [
    "# WeatherPy\n",
    "----\n",
    "\n",
    "#### Note\n",
    "* Instructions have been included for each segment. You do not have to follow them exactly, but they are included to help you think through the steps."
   ]
  },
  {
   "cell_type": "code",
   "execution_count": 2,
   "metadata": {
    "scrolled": true
   },
   "outputs": [],
   "source": [
    "# Dependencies and Setup\n",
    "import matplotlib.pyplot as plt\n",
    "import pandas as pd\n",
    "import numpy as np\n",
    "import requests\n",
    "import time\n",
    "from scipy.stats import linregress\n",
    "from pprint import pprint\n",
    "\n",
    "# Import API key\n",
    "from api_keys import weather_api_key\n",
    "\n",
    "# Incorporated citipy to determine city based on latitude and longitude\n",
    "from citipy import citipy\n",
    "\n",
    "# Output File (CSV)\n",
    "output_data_file = \"output_data/cities.csv\"\n",
    "\n",
    "# Range of latitudes and longitudes\n",
    "lat_range = (-90, 90)\n",
    "lng_range = (-180, 180)"
   ]
  },
  {
   "cell_type": "markdown",
   "metadata": {},
   "source": [
    "## Generate Cities List"
   ]
  },
  {
   "cell_type": "code",
   "execution_count": 5,
   "metadata": {},
   "outputs": [
    {
     "data": {
      "text/plain": [
       "611"
      ]
     },
     "execution_count": 5,
     "metadata": {},
     "output_type": "execute_result"
    }
   ],
   "source": [
    "# List for holding lat_lngs and cities\n",
    "lat_lngs = []\n",
    "cities = []\n",
    "\n",
    "# Create a set of random lat and lng combinations\n",
    "lats = np.random.uniform(lat_range[0], lat_range[1], size=1500)\n",
    "lngs = np.random.uniform(lng_range[0], lng_range[1], size=1500)\n",
    "lat_lngs = zip(lats, lngs)\n",
    "\n",
    "# Identify nearest city for each lat, lng combination\n",
    "for lat_lng in lat_lngs:\n",
    "    city = citipy.nearest_city(lat_lng[0], lat_lng[1]).city_name\n",
    "    \n",
    "    # If the city is unique, then add it to a our cities list\n",
    "    if city not in cities:\n",
    "        cities.append(city)\n",
    "\n",
    "# Print the city count to confirm sufficient count\n",
    "len(cities)"
   ]
  },
  {
   "cell_type": "markdown",
   "metadata": {},
   "source": [
    "### Perform API Calls\n",
    "* Perform a weather check on each city using a series of successive API calls.\n",
    "* Include a print log of each city as it'sbeing processed (with the city number and city name).\n"
   ]
  },
  {
   "cell_type": "code",
   "execution_count": 14,
   "metadata": {},
   "outputs": [
    {
     "name": "stdout",
     "output_type": "stream",
     "text": [
      "Beginning Data Retrieval\n",
      "--------------\n",
      "Processing Record 1 of Set 1 | busselton\n",
      "Processing Record 2 of Set 1 | contai\n",
      "Processing Record 3 of Set 1 | kaitangata\n",
      "Processing Record 4 of Set 1 | esperance\n",
      "Processing Record 5 of Set 1 | fairbanks\n",
      "Processing Record 6 of Set 1 | hermanus\n",
      "Processing Record 7 of Set 1 | hofn\n",
      "Processing Record 8 of Set 1 | provideniya\n",
      "Processing Record 9 of Set 1 | pevek\n",
      "Processing Record 10 of Set 1 | port hawkesbury\n",
      "Processing Record 11 of Set 1 | longyearbyen\n",
      "Processing Record 12 of Set 1 | lebu\n",
      "Processing Record 13 of Set 1 | lompoc\n",
      "Processing Record 14 of Set 1 | taolanaro\n",
      "City not found. Skipping...\n",
      "Processing Record 15 of Set 1 | saint anthony\n",
      "Processing Record 16 of Set 1 | hilo\n",
      "Processing Record 17 of Set 1 | saskylakh\n",
      "Processing Record 18 of Set 1 | tiksi\n",
      "Processing Record 19 of Set 1 | korla\n",
      "Processing Record 20 of Set 1 | jodar\n",
      "Processing Record 21 of Set 1 | naze\n",
      "Processing Record 22 of Set 1 | teya\n",
      "Processing Record 23 of Set 1 | atuona\n",
      "Processing Record 24 of Set 1 | kavieng\n",
      "Processing Record 25 of Set 1 | the valley\n",
      "Processing Record 26 of Set 1 | bayanday\n",
      "Processing Record 27 of Set 1 | phek\n",
      "Processing Record 28 of Set 1 | kidal\n",
      "Processing Record 29 of Set 1 | punta arenas\n",
      "Processing Record 30 of Set 1 | chokurdakh\n",
      "Processing Record 31 of Set 1 | luderitz\n",
      "Processing Record 32 of Set 1 | sao joao da barra\n",
      "Processing Record 33 of Set 1 | port alfred\n",
      "Processing Record 34 of Set 1 | susner\n",
      "Processing Record 35 of Set 1 | lavrentiya\n",
      "Processing Record 36 of Set 1 | umm durman\n",
      "City not found. Skipping...\n",
      "Processing Record 37 of Set 1 | shimoda\n",
      "Processing Record 38 of Set 1 | bluff\n",
      "Processing Record 39 of Set 1 | ushuaia\n",
      "Processing Record 40 of Set 1 | kloulklubed\n",
      "Processing Record 41 of Set 1 | tasiilaq\n",
      "Processing Record 42 of Set 1 | hithadhoo\n",
      "Processing Record 43 of Set 1 | vaini\n",
      "Processing Record 44 of Set 1 | cape town\n",
      "Processing Record 45 of Set 1 | batagay\n",
      "Processing Record 46 of Set 1 | prainha\n",
      "Processing Record 47 of Set 1 | abbeyleix\n",
      "Processing Record 48 of Set 1 | motril\n",
      "Processing Record 49 of Set 1 | kaeo\n",
      "Processing Record 50 of Set 1 | rikitea\n",
      "Processing Record 1 of Set 2 | butaritari\n",
      "Processing Record 2 of Set 2 | wagar\n",
      "Processing Record 3 of Set 2 | mataura\n",
      "Processing Record 4 of Set 2 | saint george\n",
      "Processing Record 5 of Set 2 | longkou\n",
      "Processing Record 6 of Set 2 | castro\n",
      "Processing Record 7 of Set 2 | nanortalik\n",
      "Processing Record 8 of Set 2 | guerrero negro\n",
      "Processing Record 9 of Set 2 | katsuura\n",
      "Processing Record 10 of Set 2 | hobart\n",
      "Processing Record 11 of Set 2 | new norfolk\n",
      "Processing Record 12 of Set 2 | matagami\n",
      "Processing Record 13 of Set 2 | cherskiy\n",
      "Processing Record 14 of Set 2 | great falls\n",
      "Processing Record 15 of Set 2 | broome\n",
      "Processing Record 16 of Set 2 | khatanga\n",
      "Processing Record 17 of Set 2 | ancud\n",
      "Processing Record 18 of Set 2 | sorong\n",
      "Processing Record 19 of Set 2 | hervey bay\n",
      "Processing Record 20 of Set 2 | broken hill\n",
      "Processing Record 21 of Set 2 | harper\n",
      "Processing Record 22 of Set 2 | nueva loja\n",
      "Processing Record 23 of Set 2 | cagayan de tawi-tawi\n",
      "City not found. Skipping...\n",
      "Processing Record 24 of Set 2 | belmonte\n",
      "Processing Record 25 of Set 2 | byron bay\n",
      "Processing Record 26 of Set 2 | kapaa\n",
      "Processing Record 27 of Set 2 | deputatskiy\n",
      "Processing Record 28 of Set 2 | portland\n",
      "Processing Record 29 of Set 2 | illoqqortoormiut\n",
      "City not found. Skipping...\n",
      "Processing Record 30 of Set 2 | tessalit\n",
      "Processing Record 31 of Set 2 | najran\n",
      "Processing Record 32 of Set 2 | asau\n",
      "Processing Record 33 of Set 2 | attawapiskat\n",
      "City not found. Skipping...\n",
      "Processing Record 34 of Set 2 | mogocha\n",
      "Processing Record 35 of Set 2 | oranjemund\n",
      "Processing Record 36 of Set 2 | yanam\n",
      "Processing Record 37 of Set 2 | albany\n",
      "Processing Record 38 of Set 2 | bredasdorp\n",
      "Processing Record 39 of Set 2 | margate\n",
      "Processing Record 40 of Set 2 | vestmanna\n",
      "Processing Record 41 of Set 2 | iqaluit\n",
      "Processing Record 42 of Set 2 | khandyga\n",
      "Processing Record 43 of Set 2 | hasaki\n",
      "Processing Record 44 of Set 2 | poum\n",
      "Processing Record 45 of Set 2 | airai\n",
      "Processing Record 46 of Set 2 | vaitupu\n",
      "City not found. Skipping...\n",
      "Processing Record 47 of Set 2 | vicuna\n",
      "Processing Record 48 of Set 2 | jiddah\n",
      "City not found. Skipping...\n",
      "Processing Record 49 of Set 2 | leningradskiy\n",
      "Processing Record 50 of Set 2 | rudnichnyy\n",
      "Processing Record 1 of Set 3 | chuy\n",
      "Processing Record 2 of Set 3 | ilulissat\n",
      "Processing Record 3 of Set 3 | ponta do sol\n",
      "Processing Record 4 of Set 3 | tokur\n",
      "Processing Record 5 of Set 3 | hobyo\n",
      "Processing Record 6 of Set 3 | salalah\n",
      "Processing Record 7 of Set 3 | jiuquan\n",
      "Processing Record 8 of Set 3 | barrow\n",
      "Processing Record 9 of Set 3 | alofi\n",
      "Processing Record 10 of Set 3 | bilibino\n",
      "Processing Record 11 of Set 3 | pisco\n",
      "Processing Record 12 of Set 3 | marcona\n",
      "City not found. Skipping...\n",
      "Processing Record 13 of Set 3 | coahuayana\n",
      "Processing Record 14 of Set 3 | kondopoga\n",
      "Processing Record 15 of Set 3 | klaksvik\n",
      "Processing Record 16 of Set 3 | waitati\n",
      "Processing Record 17 of Set 3 | linguere\n",
      "Processing Record 18 of Set 3 | qasigiannguit\n",
      "Processing Record 19 of Set 3 | jamestown\n",
      "Processing Record 20 of Set 3 | rengo\n",
      "Processing Record 21 of Set 3 | east london\n",
      "Processing Record 22 of Set 3 | nikolskoye\n",
      "Processing Record 23 of Set 3 | awbari\n",
      "Processing Record 24 of Set 3 | qaanaaq\n",
      "Processing Record 25 of Set 3 | lashio\n",
      "Processing Record 26 of Set 3 | jinchang\n",
      "Processing Record 27 of Set 3 | victoria\n",
      "Processing Record 28 of Set 3 | hirara\n",
      "Processing Record 29 of Set 3 | bethel\n",
      "Processing Record 30 of Set 3 | deep river\n",
      "Processing Record 31 of Set 3 | laguna\n",
      "Processing Record 32 of Set 3 | sitka\n",
      "Processing Record 33 of Set 3 | dingle\n",
      "Processing Record 34 of Set 3 | santa rosa\n",
      "Processing Record 35 of Set 3 | kodiak\n",
      "Processing Record 36 of Set 3 | bad kreuznach\n",
      "Processing Record 37 of Set 3 | westport\n",
      "Processing Record 38 of Set 3 | mattru\n",
      "Processing Record 39 of Set 3 | skibbereen\n",
      "Processing Record 40 of Set 3 | praia da vitoria\n",
      "Processing Record 41 of Set 3 | clyde river\n",
      "Processing Record 42 of Set 3 | varzea alegre\n",
      "Processing Record 43 of Set 3 | pacific grove\n",
      "Processing Record 44 of Set 3 | puerto ayora\n",
      "Processing Record 45 of Set 3 | port elizabeth\n",
      "Processing Record 46 of Set 3 | edea\n",
      "Processing Record 47 of Set 3 | mahibadhoo\n",
      "Processing Record 48 of Set 3 | vostok\n",
      "Processing Record 49 of Set 3 | labutta\n",
      "City not found. Skipping...\n",
      "Processing Record 50 of Set 3 | ural\n",
      "Processing Record 1 of Set 4 | palmer\n",
      "Processing Record 2 of Set 4 | yellowknife\n",
      "Processing Record 3 of Set 4 | bowen\n",
      "Processing Record 4 of Set 4 | lasa\n",
      "Processing Record 5 of Set 4 | tuktoyaktuk\n",
      "Processing Record 6 of Set 4 | whitianga\n",
      "Processing Record 7 of Set 4 | astoria\n",
      "Processing Record 8 of Set 4 | brigantine\n",
      "Processing Record 9 of Set 4 | coatesville\n",
      "Processing Record 10 of Set 4 | kitzingen\n",
      "Processing Record 11 of Set 4 | inuvik\n",
      "Processing Record 12 of Set 4 | fortuna\n",
      "Processing Record 13 of Set 4 | olafsvik\n",
      "Processing Record 14 of Set 4 | axim\n",
      "Processing Record 15 of Set 4 | xiaoshi\n",
      "Processing Record 16 of Set 4 | cidreira\n",
      "Processing Record 17 of Set 4 | thompson\n",
      "Processing Record 18 of Set 4 | aklavik\n",
      "Processing Record 19 of Set 4 | lagoa\n",
      "Processing Record 20 of Set 4 | cayenne\n",
      "Processing Record 21 of Set 4 | berlevag\n",
      "Processing Record 22 of Set 4 | kabompo\n",
      "Processing Record 23 of Set 4 | ngukurr\n",
      "City not found. Skipping...\n",
      "Processing Record 24 of Set 4 | aluksne\n",
      "Processing Record 25 of Set 4 | beatrice\n",
      "Processing Record 26 of Set 4 | nemuro\n",
      "Processing Record 27 of Set 4 | bengkulu\n",
      "Processing Record 28 of Set 4 | helong\n",
      "Processing Record 29 of Set 4 | konyshevka\n",
      "Processing Record 30 of Set 4 | estelle\n",
      "Processing Record 31 of Set 4 | boa vista\n",
      "Processing Record 32 of Set 4 | sentyabrskiy\n",
      "City not found. Skipping...\n",
      "Processing Record 33 of Set 4 | wakkanai\n",
      "Processing Record 34 of Set 4 | barentsburg\n",
      "City not found. Skipping...\n",
      "Processing Record 35 of Set 4 | belushya guba\n",
      "City not found. Skipping...\n",
      "Processing Record 36 of Set 4 | asosa\n",
      "Processing Record 37 of Set 4 | cabo san lucas\n",
      "Processing Record 38 of Set 4 | tougue\n",
      "Processing Record 39 of Set 4 | havoysund\n",
      "Processing Record 40 of Set 4 | sinnamary\n",
      "Processing Record 41 of Set 4 | shiloh\n"
     ]
    },
    {
     "name": "stdout",
     "output_type": "stream",
     "text": [
      "Processing Record 42 of Set 4 | iquique\n",
      "Processing Record 43 of Set 4 | oum hadjer\n",
      "Processing Record 44 of Set 4 | los llanos de aridane\n",
      "Processing Record 45 of Set 4 | kurumkan\n",
      "Processing Record 46 of Set 4 | chumikan\n",
      "Processing Record 47 of Set 4 | temaraia\n",
      "City not found. Skipping...\n",
      "Processing Record 48 of Set 4 | bilma\n",
      "Processing Record 49 of Set 4 | san patricio\n",
      "Processing Record 50 of Set 4 | aksehir\n",
      "Processing Record 1 of Set 5 | kahului\n",
      "Processing Record 2 of Set 5 | udachnyy\n",
      "Processing Record 3 of Set 5 | wanning\n",
      "Processing Record 4 of Set 5 | yumen\n",
      "Processing Record 5 of Set 5 | kaniama\n",
      "Processing Record 6 of Set 5 | faya\n",
      "Processing Record 7 of Set 5 | hearst\n",
      "Processing Record 8 of Set 5 | torbay\n",
      "Processing Record 9 of Set 5 | srednekolymsk\n",
      "Processing Record 10 of Set 5 | ambulu\n",
      "Processing Record 11 of Set 5 | mandalgovi\n",
      "Processing Record 12 of Set 5 | edd\n",
      "Processing Record 13 of Set 5 | shelburne\n",
      "Processing Record 14 of Set 5 | bulawayo\n",
      "Processing Record 15 of Set 5 | hualmay\n",
      "Processing Record 16 of Set 5 | tahoua\n",
      "Processing Record 17 of Set 5 | abha\n",
      "Processing Record 18 of Set 5 | tautira\n",
      "Processing Record 19 of Set 5 | hyeres\n",
      "Processing Record 20 of Set 5 | santa isabel\n",
      "Processing Record 21 of Set 5 | kiunga\n",
      "Processing Record 22 of Set 5 | mahebourg\n",
      "Processing Record 23 of Set 5 | yarmouth\n",
      "Processing Record 24 of Set 5 | gazni\n",
      "City not found. Skipping...\n",
      "Processing Record 25 of Set 5 | normandin\n",
      "Processing Record 26 of Set 5 | amderma\n",
      "City not found. Skipping...\n",
      "Processing Record 27 of Set 5 | amos\n",
      "Processing Record 28 of Set 5 | elko\n",
      "Processing Record 29 of Set 5 | lorengau\n",
      "Processing Record 30 of Set 5 | ribeira grande\n",
      "Processing Record 31 of Set 5 | tygda\n",
      "Processing Record 32 of Set 5 | biak\n",
      "Processing Record 33 of Set 5 | krasnoselkup\n",
      "Processing Record 34 of Set 5 | kargasok\n",
      "Processing Record 35 of Set 5 | husavik\n",
      "Processing Record 36 of Set 5 | letlhakeng\n",
      "Processing Record 37 of Set 5 | belomorsk\n",
      "Processing Record 38 of Set 5 | ahipara\n",
      "Processing Record 39 of Set 5 | geraldton\n",
      "Processing Record 40 of Set 5 | florian\n",
      "Processing Record 41 of Set 5 | emporia\n",
      "Processing Record 42 of Set 5 | kaspiyskiy\n",
      "Processing Record 43 of Set 5 | avarua\n",
      "Processing Record 44 of Set 5 | kununurra\n",
      "Processing Record 45 of Set 5 | urengoy\n",
      "Processing Record 46 of Set 5 | tuatapere\n",
      "Processing Record 47 of Set 5 | shingu\n",
      "Processing Record 48 of Set 5 | te anau\n",
      "Processing Record 49 of Set 5 | upernavik\n",
      "Processing Record 50 of Set 5 | georgetown\n",
      "Processing Record 1 of Set 6 | teknaf\n",
      "Processing Record 2 of Set 6 | alvaraes\n",
      "Processing Record 3 of Set 6 | emilio carranza\n",
      "Processing Record 4 of Set 6 | klokkarvik\n",
      "City not found. Skipping...\n",
      "Processing Record 5 of Set 6 | buraydah\n",
      "Processing Record 6 of Set 6 | kavaratti\n",
      "Processing Record 7 of Set 6 | saint pete beach\n",
      "Processing Record 8 of Set 6 | aksu\n",
      "Processing Record 9 of Set 6 | graneros\n",
      "Processing Record 10 of Set 6 | port lincoln\n",
      "Processing Record 11 of Set 6 | kirkkonummi\n",
      "Processing Record 12 of Set 6 | lerwick\n",
      "Processing Record 13 of Set 6 | grand baie\n",
      "Processing Record 14 of Set 6 | barawe\n",
      "City not found. Skipping...\n",
      "Processing Record 15 of Set 6 | vila\n",
      "Processing Record 16 of Set 6 | faanui\n",
      "Processing Record 17 of Set 6 | sao filipe\n",
      "Processing Record 18 of Set 6 | sai buri\n",
      "Processing Record 19 of Set 6 | ruidoso\n",
      "Processing Record 20 of Set 6 | bambous virieux\n",
      "Processing Record 21 of Set 6 | melita\n",
      "Processing Record 22 of Set 6 | chadiza\n",
      "Processing Record 23 of Set 6 | marsh harbour\n",
      "Processing Record 24 of Set 6 | saint-philippe\n",
      "Processing Record 25 of Set 6 | arua\n",
      "Processing Record 26 of Set 6 | kamenskoye\n",
      "City not found. Skipping...\n",
      "Processing Record 27 of Set 6 | luanda\n",
      "Processing Record 28 of Set 6 | mwinilunga\n",
      "Processing Record 29 of Set 6 | temiscaming\n",
      "Processing Record 30 of Set 6 | pinerovka\n",
      "Processing Record 31 of Set 6 | urumqi\n",
      "Processing Record 32 of Set 6 | arraial do cabo\n",
      "Processing Record 33 of Set 6 | wenatchee\n",
      "Processing Record 34 of Set 6 | inhambane\n",
      "Processing Record 35 of Set 6 | marrakesh\n",
      "Processing Record 36 of Set 6 | meyungs\n",
      "City not found. Skipping...\n",
      "Processing Record 37 of Set 6 | talnakh\n",
      "Processing Record 38 of Set 6 | hwange\n",
      "Processing Record 39 of Set 6 | gazanjyk\n",
      "Processing Record 40 of Set 6 | sangar\n",
      "Processing Record 41 of Set 6 | ituporanga\n",
      "Processing Record 42 of Set 6 | dikson\n",
      "Processing Record 43 of Set 6 | tabiauea\n",
      "City not found. Skipping...\n",
      "Processing Record 44 of Set 6 | impfondo\n",
      "Processing Record 45 of Set 6 | coquimbo\n",
      "Processing Record 46 of Set 6 | east stroudsburg\n",
      "Processing Record 47 of Set 6 | sobolevo\n",
      "Processing Record 48 of Set 6 | morondava\n",
      "Processing Record 49 of Set 6 | nhulunbuy\n",
      "Processing Record 50 of Set 6 | mount gambier\n",
      "Processing Record 1 of Set 7 | orocue\n",
      "Processing Record 2 of Set 7 | rakitovo\n",
      "Processing Record 3 of Set 7 | gorontalo\n",
      "Processing Record 4 of Set 7 | jalu\n",
      "Processing Record 5 of Set 7 | mys shmidta\n",
      "City not found. Skipping...\n",
      "Processing Record 6 of Set 7 | the pas\n",
      "Processing Record 7 of Set 7 | ajaccio\n",
      "Processing Record 8 of Set 7 | nhamunda\n",
      "Processing Record 9 of Set 7 | amahai\n",
      "Processing Record 10 of Set 7 | oranjestad\n",
      "Processing Record 11 of Set 7 | rio gallegos\n",
      "Processing Record 12 of Set 7 | roebourne\n",
      "Processing Record 13 of Set 7 | santa cruz de tenerife\n",
      "Processing Record 14 of Set 7 | halalo\n",
      "City not found. Skipping...\n",
      "Processing Record 15 of Set 7 | goulburn\n",
      "Processing Record 16 of Set 7 | taltal\n",
      "Processing Record 17 of Set 7 | samarai\n",
      "Processing Record 18 of Set 7 | port moresby\n",
      "Processing Record 19 of Set 7 | north bend\n",
      "Processing Record 20 of Set 7 | pilar\n",
      "Processing Record 21 of Set 7 | karkaralinsk\n",
      "City not found. Skipping...\n",
      "Processing Record 22 of Set 7 | amnat charoen\n",
      "Processing Record 23 of Set 7 | gizo\n",
      "Processing Record 24 of Set 7 | malinyi\n",
      "Processing Record 25 of Set 7 | touros\n",
      "Processing Record 26 of Set 7 | awjilah\n",
      "Processing Record 27 of Set 7 | mullaitivu\n",
      "City not found. Skipping...\n",
      "Processing Record 28 of Set 7 | angol\n",
      "Processing Record 29 of Set 7 | dunedin\n",
      "Processing Record 30 of Set 7 | kysyl-syr\n",
      "Processing Record 31 of Set 7 | porbandar\n",
      "Processing Record 32 of Set 7 | chapais\n",
      "Processing Record 33 of Set 7 | huejuquilla el alto\n",
      "Processing Record 34 of Set 7 | jeremoabo\n",
      "Processing Record 35 of Set 7 | carnarvon\n",
      "Processing Record 36 of Set 7 | ixtapa\n",
      "Processing Record 37 of Set 7 | lisala\n",
      "Processing Record 38 of Set 7 | samoylovka\n",
      "Processing Record 39 of Set 7 | saleaula\n",
      "City not found. Skipping...\n",
      "Processing Record 40 of Set 7 | oda\n",
      "Processing Record 41 of Set 7 | marang\n",
      "Processing Record 42 of Set 7 | samusu\n",
      "City not found. Skipping...\n",
      "Processing Record 43 of Set 7 | codrington\n",
      "Processing Record 44 of Set 7 | abu samrah\n",
      "Processing Record 45 of Set 7 | kamsack\n",
      "Processing Record 46 of Set 7 | tukan\n",
      "Processing Record 47 of Set 7 | yakshur-bodya\n",
      "City not found. Skipping...\n",
      "Processing Record 48 of Set 7 | cozumel\n",
      "Processing Record 49 of Set 7 | wodonga\n",
      "Processing Record 50 of Set 7 | kenai\n",
      "Processing Record 1 of Set 8 | badulla\n",
      "Processing Record 2 of Set 8 | rivera\n",
      "Processing Record 3 of Set 8 | necochea\n",
      "Processing Record 4 of Set 8 | caravelas\n",
      "Processing Record 5 of Set 8 | palana\n",
      "Processing Record 6 of Set 8 | maniitsoq\n",
      "Processing Record 7 of Set 8 | rio de janeiro\n",
      "Processing Record 8 of Set 8 | nome\n",
      "Processing Record 9 of Set 8 | nouadhibou\n",
      "Processing Record 10 of Set 8 | tsihombe\n",
      "City not found. Skipping...\n",
      "Processing Record 11 of Set 8 | praia\n",
      "Processing Record 12 of Set 8 | rawson\n",
      "Processing Record 13 of Set 8 | coihaique\n",
      "Processing Record 14 of Set 8 | mizan teferi\n",
      "Processing Record 15 of Set 8 | tepetzintla\n",
      "Processing Record 16 of Set 8 | mar del plata\n",
      "Processing Record 17 of Set 8 | burica\n",
      "City not found. Skipping...\n",
      "Processing Record 18 of Set 8 | yulara\n",
      "Processing Record 19 of Set 8 | umm lajj\n",
      "Processing Record 20 of Set 8 | bahar\n",
      "Processing Record 21 of Set 8 | vila velha\n",
      "Processing Record 22 of Set 8 | mudanjiang\n",
      "Processing Record 23 of Set 8 | opuwo\n",
      "Processing Record 24 of Set 8 | buala\n",
      "Processing Record 25 of Set 8 | corinto\n",
      "Processing Record 26 of Set 8 | ocos\n",
      "Processing Record 27 of Set 8 | balsas\n",
      "Processing Record 28 of Set 8 | isangel\n",
      "Processing Record 29 of Set 8 | egvekinot\n",
      "Processing Record 30 of Set 8 | san policarpo\n"
     ]
    },
    {
     "name": "stdout",
     "output_type": "stream",
     "text": [
      "Processing Record 31 of Set 8 | bathsheba\n",
      "Processing Record 32 of Set 8 | clearwater\n",
      "Processing Record 33 of Set 8 | tigil\n",
      "Processing Record 34 of Set 8 | camabatela\n",
      "Processing Record 35 of Set 8 | tiarei\n",
      "Processing Record 36 of Set 8 | menongue\n",
      "Processing Record 37 of Set 8 | rorvik\n",
      "Processing Record 38 of Set 8 | nelson bay\n",
      "Processing Record 39 of Set 8 | moose factory\n",
      "Processing Record 40 of Set 8 | mossendjo\n",
      "Processing Record 41 of Set 8 | bouar\n",
      "Processing Record 42 of Set 8 | mormugao\n",
      "Processing Record 43 of Set 8 | torbat-e jam\n",
      "Processing Record 44 of Set 8 | saurimo\n",
      "Processing Record 45 of Set 8 | bukachacha\n",
      "Processing Record 46 of Set 8 | oistins\n",
      "Processing Record 47 of Set 8 | sulangan\n",
      "Processing Record 48 of Set 8 | mitu\n",
      "Processing Record 49 of Set 8 | ribnitz-damgarten\n",
      "Processing Record 50 of Set 8 | camopi\n",
      "Processing Record 1 of Set 9 | umzimvubu\n",
      "City not found. Skipping...\n",
      "Processing Record 2 of Set 9 | louisbourg\n",
      "City not found. Skipping...\n",
      "Processing Record 3 of Set 9 | concepcion del oro\n",
      "Processing Record 4 of Set 9 | lata\n",
      "Processing Record 5 of Set 9 | coracao de jesus\n",
      "Processing Record 6 of Set 9 | adrar\n",
      "Processing Record 7 of Set 9 | port macquarie\n",
      "Processing Record 8 of Set 9 | falealupo\n",
      "City not found. Skipping...\n",
      "Processing Record 9 of Set 9 | komatipoort\n",
      "Processing Record 10 of Set 9 | beira\n",
      "Processing Record 11 of Set 9 | prince rupert\n",
      "Processing Record 12 of Set 9 | saint-francois\n",
      "Processing Record 13 of Set 9 | fukue\n",
      "Processing Record 14 of Set 9 | kampene\n",
      "Processing Record 15 of Set 9 | forbes\n",
      "Processing Record 16 of Set 9 | saldanha\n",
      "Processing Record 17 of Set 9 | norman wells\n",
      "Processing Record 18 of Set 9 | komsomolskiy\n",
      "Processing Record 19 of Set 9 | samalaeulu\n",
      "City not found. Skipping...\n",
      "Processing Record 20 of Set 9 | la dorada\n",
      "Processing Record 21 of Set 9 | collie\n",
      "Processing Record 22 of Set 9 | solnechnyy\n",
      "Processing Record 23 of Set 9 | venice\n",
      "Processing Record 24 of Set 9 | quatre cocos\n",
      "Processing Record 25 of Set 9 | san quintin\n",
      "Processing Record 26 of Set 9 | bosaso\n",
      "Processing Record 27 of Set 9 | teruel\n",
      "Processing Record 28 of Set 9 | mairana\n",
      "Processing Record 29 of Set 9 | hami\n",
      "Processing Record 30 of Set 9 | haibowan\n",
      "City not found. Skipping...\n",
      "Processing Record 31 of Set 9 | kajansi\n",
      "Processing Record 32 of Set 9 | bayevo\n",
      "Processing Record 33 of Set 9 | ambanja\n",
      "Processing Record 34 of Set 9 | nalut\n",
      "Processing Record 35 of Set 9 | gamboula\n",
      "Processing Record 36 of Set 9 | nizhneyansk\n",
      "City not found. Skipping...\n",
      "Processing Record 37 of Set 9 | namibe\n",
      "Processing Record 38 of Set 9 | watrous\n",
      "Processing Record 39 of Set 9 | cockburn town\n",
      "Processing Record 40 of Set 9 | shahr-e kord\n",
      "Processing Record 41 of Set 9 | neiafu\n",
      "Processing Record 42 of Set 9 | tanete\n",
      "Processing Record 43 of Set 9 | mariinsk\n",
      "Processing Record 44 of Set 9 | tarko-sale\n",
      "Processing Record 45 of Set 9 | sao joao da ponte\n",
      "Processing Record 46 of Set 9 | narsaq\n",
      "Processing Record 47 of Set 9 | grand river south east\n",
      "City not found. Skipping...\n",
      "Processing Record 48 of Set 9 | tura\n",
      "Processing Record 49 of Set 9 | nelspruit\n",
      "Processing Record 50 of Set 9 | platteville\n",
      "Processing Record 1 of Set 10 | mayo\n",
      "Processing Record 2 of Set 10 | jaciara\n",
      "Processing Record 3 of Set 10 | orangeburg\n",
      "Processing Record 4 of Set 10 | jefferson city\n",
      "Processing Record 5 of Set 10 | cururupu\n",
      "Processing Record 6 of Set 10 | severo-kurilsk\n",
      "Processing Record 7 of Set 10 | staryy nadym\n",
      "Processing Record 8 of Set 10 | port augusta\n",
      "Processing Record 9 of Set 10 | gorno-chuyskiy\n",
      "City not found. Skipping...\n",
      "Processing Record 10 of Set 10 | turtkul\n",
      "City not found. Skipping...\n",
      "Processing Record 11 of Set 10 | hunza\n",
      "City not found. Skipping...\n",
      "Processing Record 12 of Set 10 | varna\n",
      "Processing Record 13 of Set 10 | pangnirtung\n",
      "Processing Record 14 of Set 10 | zhigansk\n",
      "Processing Record 15 of Set 10 | trenggalek\n",
      "Processing Record 16 of Set 10 | bonavista\n",
      "Processing Record 17 of Set 10 | auki\n",
      "Processing Record 18 of Set 10 | anqing\n",
      "Processing Record 19 of Set 10 | correia pinto\n",
      "Processing Record 20 of Set 10 | tumannyy\n",
      "City not found. Skipping...\n",
      "Processing Record 21 of Set 10 | brae\n",
      "Processing Record 22 of Set 10 | hanna\n",
      "Processing Record 23 of Set 10 | hihifo\n",
      "City not found. Skipping...\n",
      "Processing Record 24 of Set 10 | puri\n",
      "Processing Record 25 of Set 10 | coxim\n",
      "Processing Record 26 of Set 10 | marawi\n",
      "Processing Record 27 of Set 10 | seoul\n",
      "Processing Record 28 of Set 10 | jujuy\n",
      "City not found. Skipping...\n",
      "Processing Record 29 of Set 10 | santander\n",
      "Processing Record 30 of Set 10 | amasia\n",
      "Processing Record 31 of Set 10 | bubaque\n",
      "Processing Record 32 of Set 10 | thiruvananthapuram\n",
      "Processing Record 33 of Set 10 | tashtyp\n",
      "Processing Record 34 of Set 10 | atambua\n",
      "Processing Record 35 of Set 10 | constitucion\n",
      "Processing Record 36 of Set 10 | goundam\n",
      "Processing Record 37 of Set 10 | san rafael del sur\n",
      "Processing Record 38 of Set 10 | ghanzi\n",
      "Processing Record 39 of Set 10 | andapa\n",
      "Processing Record 40 of Set 10 | tvoroyri\n",
      "Processing Record 41 of Set 10 | visnes\n",
      "Processing Record 42 of Set 10 | kachiry\n",
      "Processing Record 43 of Set 10 | walvis bay\n",
      "Processing Record 44 of Set 10 | saint-leu\n",
      "Processing Record 45 of Set 10 | mathbaria\n",
      "Processing Record 46 of Set 10 | raudeberg\n",
      "Processing Record 47 of Set 10 | ashington\n",
      "Processing Record 48 of Set 10 | kruisfontein\n",
      "Processing Record 49 of Set 10 | kattivakkam\n",
      "Processing Record 50 of Set 10 | killybegs\n",
      "Processing Record 1 of Set 11 | oktyabrskiy\n",
      "Processing Record 2 of Set 11 | sungaipenuh\n",
      "Processing Record 3 of Set 11 | ginda\n",
      "Processing Record 4 of Set 11 | alausi\n",
      "Processing Record 5 of Set 11 | le port\n",
      "Processing Record 6 of Set 11 | padang\n",
      "Processing Record 7 of Set 11 | abu zabad\n",
      "Processing Record 8 of Set 11 | cocobeach\n",
      "Processing Record 9 of Set 11 | anadyr\n",
      "Processing Record 10 of Set 11 | rudbar\n",
      "Processing Record 11 of Set 11 | acarau\n",
      "Processing Record 12 of Set 11 | mehamn\n",
      "Processing Record 13 of Set 11 | jiazi\n",
      "Processing Record 14 of Set 11 | katherine\n",
      "Processing Record 15 of Set 11 | damaturu\n",
      "Processing Record 16 of Set 11 | sirur\n",
      "Processing Record 17 of Set 11 | dogondoutchi\n",
      "Processing Record 18 of Set 11 | san juan\n",
      "Processing Record 19 of Set 11 | grand-santi\n",
      "Processing Record 20 of Set 11 | khani\n",
      "Processing Record 21 of Set 11 | murdochville\n",
      "Processing Record 22 of Set 11 | geresk\n",
      "City not found. Skipping...\n",
      "Processing Record 23 of Set 11 | calvinia\n",
      "Processing Record 24 of Set 11 | damietta\n",
      "Processing Record 25 of Set 11 | palabuhanratu\n",
      "City not found. Skipping...\n",
      "Processing Record 26 of Set 11 | campos novos\n",
      "Processing Record 27 of Set 11 | vasai\n",
      "Processing Record 28 of Set 11 | antsohihy\n",
      "Processing Record 29 of Set 11 | kirakira\n",
      "Processing Record 30 of Set 11 | smoky lake\n",
      "Processing Record 31 of Set 11 | mount isa\n",
      "Processing Record 32 of Set 11 | fare\n",
      "Processing Record 33 of Set 11 | roquetas de mar\n",
      "Processing Record 34 of Set 11 | mountain home\n",
      "Processing Record 35 of Set 11 | ibanda\n",
      "Processing Record 36 of Set 11 | tasco\n",
      "Processing Record 37 of Set 11 | avera\n",
      "Processing Record 38 of Set 11 | vrangel\n",
      "Processing Record 39 of Set 11 | port blair\n",
      "Processing Record 40 of Set 11 | micheweni\n",
      "Processing Record 41 of Set 11 | jahrom\n",
      "City not found. Skipping...\n",
      "Processing Record 42 of Set 11 | murwillumbah\n",
      "Processing Record 43 of Set 11 | lepaterique\n",
      "Processing Record 44 of Set 11 | mana\n",
      "Processing Record 45 of Set 11 | kalmunai\n",
      "Processing Record 46 of Set 11 | lesnoy\n",
      "Processing Record 47 of Set 11 | northam\n",
      "Processing Record 48 of Set 11 | aswan\n",
      "Processing Record 49 of Set 11 | miri\n",
      "Processing Record 50 of Set 11 | galgani\n",
      "City not found. Skipping...\n",
      "Processing Record 1 of Set 12 | turayf\n",
      "Processing Record 2 of Set 12 | kerrville\n",
      "Processing Record 3 of Set 12 | haines junction\n",
      "Processing Record 4 of Set 12 | klyuchi\n",
      "Processing Record 5 of Set 12 | whyalla\n",
      "Processing Record 6 of Set 12 | honningsvag\n",
      "Processing Record 7 of Set 12 | cabedelo\n",
      "Processing Record 8 of Set 12 | karangasem\n",
      "Processing Record 9 of Set 12 | belyy yar\n",
      "Processing Record 10 of Set 12 | kimberley\n",
      "Processing Record 11 of Set 12 | honavar\n",
      "Processing Record 12 of Set 12 | port hardy\n",
      "Processing Record 13 of Set 12 | nagato\n",
      "Processing Record 14 of Set 12 | okhotsk\n",
      "Processing Record 15 of Set 12 | prado\n"
     ]
    },
    {
     "name": "stdout",
     "output_type": "stream",
     "text": [
      "Processing Record 16 of Set 12 | sisimiut\n",
      "Processing Record 17 of Set 12 | tymovskoye\n",
      "Processing Record 18 of Set 12 | road town\n",
      "Processing Record 19 of Set 12 | ankazobe\n",
      "Processing Record 20 of Set 12 | anshun\n",
      "Processing Record 21 of Set 12 | zhezkazgan\n",
      "Processing Record 22 of Set 12 | tema\n",
      "Processing Record 23 of Set 12 | charlottesville\n",
      "Processing Record 24 of Set 12 | ginir\n",
      "Processing Record 25 of Set 12 | karpathos\n",
      "Processing Record 26 of Set 12 | teahupoo\n",
      "Processing Record 27 of Set 12 | tombouctou\n",
      "Processing Record 28 of Set 12 | oxilithos\n",
      "Processing Record 29 of Set 12 | yeysk\n",
      "Processing Record 30 of Set 12 | novikovo\n",
      "Processing Record 31 of Set 12 | hovd\n",
      "Processing Record 32 of Set 12 | havre-saint-pierre\n",
      "Processing Record 33 of Set 12 | leh\n",
      "Processing Record 34 of Set 12 | acari\n",
      "Processing Record 35 of Set 12 | ligayan\n",
      "Processing Record 36 of Set 12 | angoche\n",
      "Processing Record 37 of Set 12 | kangaatsiaq\n",
      "Processing Record 38 of Set 12 | lolua\n",
      "City not found. Skipping...\n",
      "Processing Record 39 of Set 12 | tidore\n",
      "City not found. Skipping...\n",
      "Processing Record 40 of Set 12 | peleduy\n",
      "Processing Record 41 of Set 12 | marystown\n",
      "Processing Record 42 of Set 12 | grand centre\n",
      "City not found. Skipping...\n",
      "Processing Record 43 of Set 12 | general teran\n",
      "Processing Record 44 of Set 12 | magadan\n",
      "Processing Record 45 of Set 12 | darab\n",
      "Processing Record 46 of Set 12 | imbituba\n",
      "Processing Record 47 of Set 12 | coruripe\n",
      "Processing Record 48 of Set 12 | debre tabor\n",
      "Processing Record 49 of Set 12 | arrifes\n",
      "Processing Record 50 of Set 12 | bajil\n",
      "Processing Record 1 of Set 13 | bulgan\n",
      "Processing Record 2 of Set 13 | paamiut\n",
      "Processing Record 3 of Set 13 | sainte-suzanne\n",
      "Processing Record 4 of Set 13 | areia branca\n",
      "Processing Record 5 of Set 13 | galiwinku\n",
      "City not found. Skipping...\n",
      "Processing Record 6 of Set 13 | praya\n",
      "Processing Record 7 of Set 13 | tarakan\n",
      "Processing Record 8 of Set 13 | sabang\n",
      "Processing Record 9 of Set 13 | blackwater\n",
      "Processing Record 10 of Set 13 | sumoto\n",
      "Processing Record 11 of Set 13 | asbe teferi\n",
      "--------------\n",
      "Data Retrieval Complete\n",
      "--------------\n"
     ]
    }
   ],
   "source": [
    "print(\"Beginning Data Retrieval\")\n",
    "print(\"--------------\")\n",
    "\n",
    "citys = []\n",
    "lat = []\n",
    "lng = []\n",
    "max_temp = []\n",
    "humidity = []\n",
    "cloudiness = []\n",
    "wind_speed = []\n",
    "country = []\n",
    "date = []\n",
    "i = 1\n",
    "x = 1\n",
    "\n",
    "for city in cities:\n",
    "    try:\n",
    "        print(f\"Processing Record {i} of Set {x} | {city}\")\n",
    "        url = f\"http://api.openweathermap.org/data/2.5/weather?q={city}&appid={weather_api_key}\"\n",
    "        request = requests.get(url).json()\n",
    "        citys.append(request['name'])\n",
    "        lat.append(request['coord']['lat'])\n",
    "        lng.append(request['coord']['lon'])\n",
    "        max_temp.append(request['main']['temp_max'])\n",
    "        humidity.append(request['main']['humidity'])\n",
    "        cloudiness.append(request['clouds']['all'])\n",
    "        wind_speed.append(request['wind']['speed'])\n",
    "        country.append(request['sys']['country'])\n",
    "        date.append(request['dt'])\n",
    "        i = i + 1\n",
    "        if i == 51:\n",
    "            x = x + 1\n",
    "            i = i - 50\n",
    "    except:\n",
    "        print(\"City not found. Skipping...\")\n",
    "        i = i + 1\n",
    "        if i == 51:\n",
    "            x = x + 1\n",
    "            i = i - 50\n",
    "            \n",
    "print(\"--------------\")            \n",
    "print(\"Data Retrieval Complete\")\n",
    "print(\"--------------\")"
   ]
  },
  {
   "cell_type": "markdown",
   "metadata": {},
   "source": [
    "### Convert Raw Data to DataFrame\n",
    "* Export the city data into a .csv.\n",
    "* Display the DataFrame"
   ]
  },
  {
   "cell_type": "code",
   "execution_count": 124,
   "metadata": {},
   "outputs": [
    {
     "data": {
      "text/html": [
       "<div>\n",
       "<style scoped>\n",
       "    .dataframe tbody tr th:only-of-type {\n",
       "        vertical-align: middle;\n",
       "    }\n",
       "\n",
       "    .dataframe tbody tr th {\n",
       "        vertical-align: top;\n",
       "    }\n",
       "\n",
       "    .dataframe thead th {\n",
       "        text-align: right;\n",
       "    }\n",
       "</style>\n",
       "<table border=\"1\" class=\"dataframe\">\n",
       "  <thead>\n",
       "    <tr style=\"text-align: right;\">\n",
       "      <th></th>\n",
       "      <th>City</th>\n",
       "      <th>Lat</th>\n",
       "      <th>Lng</th>\n",
       "      <th>Max Temp</th>\n",
       "      <th>Humidity</th>\n",
       "      <th>Cloudiness</th>\n",
       "      <th>Wind Speed</th>\n",
       "      <th>Country</th>\n",
       "      <th>Date</th>\n",
       "    </tr>\n",
       "  </thead>\n",
       "  <tbody>\n",
       "    <tr>\n",
       "      <th>0</th>\n",
       "      <td>Busselton</td>\n",
       "      <td>-33.6500</td>\n",
       "      <td>115.3333</td>\n",
       "      <td>293.75</td>\n",
       "      <td>38</td>\n",
       "      <td>8</td>\n",
       "      <td>3.59</td>\n",
       "      <td>AU</td>\n",
       "      <td>1636774888</td>\n",
       "    </tr>\n",
       "    <tr>\n",
       "      <th>1</th>\n",
       "      <td>Contai</td>\n",
       "      <td>21.7786</td>\n",
       "      <td>87.7536</td>\n",
       "      <td>294.90</td>\n",
       "      <td>93</td>\n",
       "      <td>100</td>\n",
       "      <td>2.89</td>\n",
       "      <td>IN</td>\n",
       "      <td>1636774889</td>\n",
       "    </tr>\n",
       "    <tr>\n",
       "      <th>2</th>\n",
       "      <td>Kaitangata</td>\n",
       "      <td>-46.2817</td>\n",
       "      <td>169.8464</td>\n",
       "      <td>282.56</td>\n",
       "      <td>97</td>\n",
       "      <td>100</td>\n",
       "      <td>5.98</td>\n",
       "      <td>NZ</td>\n",
       "      <td>1636774889</td>\n",
       "    </tr>\n",
       "    <tr>\n",
       "      <th>3</th>\n",
       "      <td>Esperance</td>\n",
       "      <td>-33.8667</td>\n",
       "      <td>121.9000</td>\n",
       "      <td>291.06</td>\n",
       "      <td>51</td>\n",
       "      <td>100</td>\n",
       "      <td>4.73</td>\n",
       "      <td>AU</td>\n",
       "      <td>1636774889</td>\n",
       "    </tr>\n",
       "    <tr>\n",
       "      <th>4</th>\n",
       "      <td>Fairbanks</td>\n",
       "      <td>64.8378</td>\n",
       "      <td>-147.7164</td>\n",
       "      <td>256.82</td>\n",
       "      <td>80</td>\n",
       "      <td>90</td>\n",
       "      <td>0.00</td>\n",
       "      <td>US</td>\n",
       "      <td>1636774802</td>\n",
       "    </tr>\n",
       "  </tbody>\n",
       "</table>\n",
       "</div>"
      ],
      "text/plain": [
       "         City      Lat       Lng  Max Temp  Humidity  Cloudiness  Wind Speed  \\\n",
       "0   Busselton -33.6500  115.3333    293.75        38           8        3.59   \n",
       "1      Contai  21.7786   87.7536    294.90        93         100        2.89   \n",
       "2  Kaitangata -46.2817  169.8464    282.56        97         100        5.98   \n",
       "3   Esperance -33.8667  121.9000    291.06        51         100        4.73   \n",
       "4   Fairbanks  64.8378 -147.7164    256.82        80          90        0.00   \n",
       "\n",
       "  Country        Date  \n",
       "0      AU  1636774888  \n",
       "1      IN  1636774889  \n",
       "2      NZ  1636774889  \n",
       "3      AU  1636774889  \n",
       "4      US  1636774802  "
      ]
     },
     "execution_count": 124,
     "metadata": {},
     "output_type": "execute_result"
    }
   ],
   "source": [
    "city_df = pd.DataFrame({'City': citys,\n",
    "                       'Lat': lat,\n",
    "                       'Lng': lng,\n",
    "                       'Max Temp': max_temp,\n",
    "                       'Humidity': humidity,\n",
    "                       'Cloudiness': cloudiness,\n",
    "                       'Wind Speed': wind_speed,\n",
    "                       'Country': country,\n",
    "                       'Date': date})\n",
    "city_df.to_csv('output_data/city.csv')\n",
    "city_df.head()"
   ]
  },
  {
   "cell_type": "code",
   "execution_count": 85,
   "metadata": {},
   "outputs": [
    {
     "data": {
      "text/html": [
       "<div>\n",
       "<style scoped>\n",
       "    .dataframe tbody tr th:only-of-type {\n",
       "        vertical-align: middle;\n",
       "    }\n",
       "\n",
       "    .dataframe tbody tr th {\n",
       "        vertical-align: top;\n",
       "    }\n",
       "\n",
       "    .dataframe thead th {\n",
       "        text-align: right;\n",
       "    }\n",
       "</style>\n",
       "<table border=\"1\" class=\"dataframe\">\n",
       "  <thead>\n",
       "    <tr style=\"text-align: right;\">\n",
       "      <th></th>\n",
       "      <th>Lat</th>\n",
       "      <th>Lng</th>\n",
       "      <th>Max Temp</th>\n",
       "      <th>Humidity</th>\n",
       "      <th>Cloudiness</th>\n",
       "      <th>Wind Speed</th>\n",
       "      <th>Date</th>\n",
       "    </tr>\n",
       "  </thead>\n",
       "  <tbody>\n",
       "    <tr>\n",
       "      <th>count</th>\n",
       "      <td>560.000000</td>\n",
       "      <td>560.000000</td>\n",
       "      <td>560.00000</td>\n",
       "      <td>560.000000</td>\n",
       "      <td>560.000000</td>\n",
       "      <td>560.000000</td>\n",
       "      <td>5.600000e+02</td>\n",
       "    </tr>\n",
       "    <tr>\n",
       "      <th>mean</th>\n",
       "      <td>18.705550</td>\n",
       "      <td>16.862283</td>\n",
       "      <td>286.32875</td>\n",
       "      <td>73.998214</td>\n",
       "      <td>60.005357</td>\n",
       "      <td>3.259196</td>\n",
       "      <td>1.636775e+09</td>\n",
       "    </tr>\n",
       "    <tr>\n",
       "      <th>std</th>\n",
       "      <td>33.421084</td>\n",
       "      <td>90.564127</td>\n",
       "      <td>13.03817</td>\n",
       "      <td>20.422680</td>\n",
       "      <td>38.069492</td>\n",
       "      <td>2.595686</td>\n",
       "      <td>9.596485e+01</td>\n",
       "    </tr>\n",
       "    <tr>\n",
       "      <th>min</th>\n",
       "      <td>-54.800000</td>\n",
       "      <td>-179.166700</td>\n",
       "      <td>242.96000</td>\n",
       "      <td>10.000000</td>\n",
       "      <td>0.000000</td>\n",
       "      <td>0.000000</td>\n",
       "      <td>1.636774e+09</td>\n",
       "    </tr>\n",
       "    <tr>\n",
       "      <th>25%</th>\n",
       "      <td>-9.613100</td>\n",
       "      <td>-61.775825</td>\n",
       "      <td>277.36500</td>\n",
       "      <td>65.000000</td>\n",
       "      <td>21.000000</td>\n",
       "      <td>1.437500</td>\n",
       "      <td>1.636775e+09</td>\n",
       "    </tr>\n",
       "    <tr>\n",
       "      <th>50%</th>\n",
       "      <td>20.878550</td>\n",
       "      <td>21.401800</td>\n",
       "      <td>289.18500</td>\n",
       "      <td>78.000000</td>\n",
       "      <td>75.000000</td>\n",
       "      <td>2.570000</td>\n",
       "      <td>1.636775e+09</td>\n",
       "    </tr>\n",
       "    <tr>\n",
       "      <th>75%</th>\n",
       "      <td>46.832550</td>\n",
       "      <td>94.890150</td>\n",
       "      <td>297.16250</td>\n",
       "      <td>90.250000</td>\n",
       "      <td>99.000000</td>\n",
       "      <td>4.630000</td>\n",
       "      <td>1.636775e+09</td>\n",
       "    </tr>\n",
       "    <tr>\n",
       "      <th>max</th>\n",
       "      <td>78.218600</td>\n",
       "      <td>178.416700</td>\n",
       "      <td>308.33000</td>\n",
       "      <td>100.000000</td>\n",
       "      <td>100.000000</td>\n",
       "      <td>25.930000</td>\n",
       "      <td>1.636775e+09</td>\n",
       "    </tr>\n",
       "  </tbody>\n",
       "</table>\n",
       "</div>"
      ],
      "text/plain": [
       "              Lat         Lng   Max Temp    Humidity  Cloudiness  Wind Speed  \\\n",
       "count  560.000000  560.000000  560.00000  560.000000  560.000000  560.000000   \n",
       "mean    18.705550   16.862283  286.32875   73.998214   60.005357    3.259196   \n",
       "std     33.421084   90.564127   13.03817   20.422680   38.069492    2.595686   \n",
       "min    -54.800000 -179.166700  242.96000   10.000000    0.000000    0.000000   \n",
       "25%     -9.613100  -61.775825  277.36500   65.000000   21.000000    1.437500   \n",
       "50%     20.878550   21.401800  289.18500   78.000000   75.000000    2.570000   \n",
       "75%     46.832550   94.890150  297.16250   90.250000   99.000000    4.630000   \n",
       "max     78.218600  178.416700  308.33000  100.000000  100.000000   25.930000   \n",
       "\n",
       "               Date  \n",
       "count  5.600000e+02  \n",
       "mean   1.636775e+09  \n",
       "std    9.596485e+01  \n",
       "min    1.636774e+09  \n",
       "25%    1.636775e+09  \n",
       "50%    1.636775e+09  \n",
       "75%    1.636775e+09  \n",
       "max    1.636775e+09  "
      ]
     },
     "execution_count": 85,
     "metadata": {},
     "output_type": "execute_result"
    }
   ],
   "source": [
    "row = [\"\"]\n",
    "count = city_df[['Lat','Lng','Max Temp','Humidity','Cloudiness','Wind Speed','Date']].count()\n",
    "# count.pop(0)\n",
    "mean = city_df[['Lat','Lng','Max Temp','Humidity','Cloudiness','Wind Speed','Date']].mean()\n",
    "std = city_df.std()\n",
    "minimum = city_df[['Lat','Lng','Max Temp','Humidity','Cloudiness','Wind Speed','Date']].min()\n",
    "quartiles = city_df.quantile([0.25,0.50,0.75])\n",
    "lowerq = quartiles.loc[0.25]\n",
    "middleq = quartiles.loc[0.50]\n",
    "upperq = quartiles.loc[0.75]\n",
    "maximum = city_df[['Lat','Lng','Max Temp','Humidity','Cloudiness','Wind Speed','Date']].max()\n",
    "summary_df = pd.DataFrame(np.array([count, mean, std, minimum, lowerq, middleq, upperq, maximum]),\n",
    "                         columns = ['Lat','Lng','Max Temp','Humidity','Cloudiness','Wind Speed','Date'])\n",
    "summary_df.rename(index = {0: \"count\",\n",
    "                          1: \"mean\",\n",
    "                          2: \"std\",\n",
    "                          3: \"min\",\n",
    "                          4: \"25%\",\n",
    "                          5: \"50%\",\n",
    "                          6: \"75%\",\n",
    "                          7: \"max\",})"
   ]
  },
  {
   "cell_type": "markdown",
   "metadata": {},
   "source": [
    "## Inspect the data and remove the cities where the humidity > 100%.\n",
    "----\n",
    "Skip this step if there are no cities that have humidity > 100%. "
   ]
  },
  {
   "cell_type": "code",
   "execution_count": 87,
   "metadata": {},
   "outputs": [
    {
     "data": {
      "text/html": [
       "<div>\n",
       "<style scoped>\n",
       "    .dataframe tbody tr th:only-of-type {\n",
       "        vertical-align: middle;\n",
       "    }\n",
       "\n",
       "    .dataframe tbody tr th {\n",
       "        vertical-align: top;\n",
       "    }\n",
       "\n",
       "    .dataframe thead th {\n",
       "        text-align: right;\n",
       "    }\n",
       "</style>\n",
       "<table border=\"1\" class=\"dataframe\">\n",
       "  <thead>\n",
       "    <tr style=\"text-align: right;\">\n",
       "      <th></th>\n",
       "      <th>City</th>\n",
       "      <th>Lat</th>\n",
       "      <th>Lng</th>\n",
       "      <th>Max Temp</th>\n",
       "      <th>Humidity</th>\n",
       "      <th>Cloudiness</th>\n",
       "      <th>Wind Speed</th>\n",
       "      <th>Country</th>\n",
       "      <th>Date</th>\n",
       "    </tr>\n",
       "  </thead>\n",
       "  <tbody>\n",
       "  </tbody>\n",
       "</table>\n",
       "</div>"
      ],
      "text/plain": [
       "Empty DataFrame\n",
       "Columns: [City, Lat, Lng, Max Temp, Humidity, Cloudiness, Wind Speed, Country, Date]\n",
       "Index: []"
      ]
     },
     "execution_count": 87,
     "metadata": {},
     "output_type": "execute_result"
    }
   ],
   "source": [
    "city_df.loc[city_df[\"Humidity\"] > 100]"
   ]
  },
  {
   "cell_type": "code",
   "execution_count": null,
   "metadata": {},
   "outputs": [],
   "source": []
  },
  {
   "cell_type": "markdown",
   "metadata": {},
   "source": [
    "## Plotting the Data\n",
    "* Use proper labeling of the plots using plot titles (including date of analysis) and axes labels.\n",
    "* Save the plotted figures as .pngs."
   ]
  },
  {
   "cell_type": "markdown",
   "metadata": {},
   "source": [
    "## Latitude vs. Temperature Plot"
   ]
  },
  {
   "cell_type": "code",
   "execution_count": 94,
   "metadata": {},
   "outputs": [
    {
     "data": {
      "image/png": "[encoded data removed]",
      "text/plain": [
       "<Figure size 432x288 with 1 Axes>"
      ]
     },
     "metadata": {
      "needs_background": "light"
     },
     "output_type": "display_data"
    }
   ],
   "source": [
    "city_df.plot(\"Lat\", \"Max Temp\", kind=\"scatter\", title= \"City Latitude vs. Max Temperature\")\n",
    "plt.grid()\n",
    "plt.savefig('output_data/LatvsTemp.png')\n",
    "plt.show()"
   ]
  },
  {
   "cell_type": "code",
   "execution_count": null,
   "metadata": {},
   "outputs": [],
   "source": [
    "# From this plot, we can assume that latitude and max temperature have a negative correlation. As latitude increases,\n",
    "# max temperature decreases"
   ]
  },
  {
   "cell_type": "markdown",
   "metadata": {},
   "source": [
    "## Latitude vs. Humidity Plot"
   ]
  },
  {
   "cell_type": "code",
   "execution_count": 95,
   "metadata": {},
   "outputs": [
    {
     "data": {
      "image/png": "[encoded data removed]",
      "text/plain": [
       "<Figure size 432x288 with 1 Axes>"
      ]
     },
     "metadata": {
      "needs_background": "light"
     },
     "output_type": "display_data"
    }
   ],
   "source": [
    "city_df.plot(\"Lat\", \"Humidity\", kind=\"scatter\", title= \"City Latitude vs. Humidity\")\n",
    "plt.grid()\n",
    "plt.savefig('output_data/LatvsHumidity.png')\n",
    "plt.show()"
   ]
  },
  {
   "cell_type": "code",
   "execution_count": null,
   "metadata": {},
   "outputs": [],
   "source": [
    "# This plot is messy and doesn't seem to have any real correlation."
   ]
  },
  {
   "cell_type": "markdown",
   "metadata": {},
   "source": [
    "## Latitude vs. Cloudiness Plot"
   ]
  },
  {
   "cell_type": "code",
   "execution_count": 96,
   "metadata": {},
   "outputs": [
    {
     "data": {
      "image/png": "[encoded data removed]",
      "text/plain": [
       "<Figure size 432x288 with 1 Axes>"
      ]
     },
     "metadata": {
      "needs_background": "light"
     },
     "output_type": "display_data"
    }
   ],
   "source": [
    "city_df.plot(\"Lat\", \"Cloudiness\", kind=\"scatter\", title= \"City Latitude vs. Cloudiness\")\n",
    "plt.grid()\n",
    "plt.savefig('output_data/LatvsCloudiness.png')\n",
    "plt.show()"
   ]
  },
  {
   "cell_type": "code",
   "execution_count": null,
   "metadata": {},
   "outputs": [],
   "source": [
    "# Like the last plot, it is hard to decipher anything from this plot."
   ]
  },
  {
   "cell_type": "markdown",
   "metadata": {},
   "source": [
    "## Latitude vs. Wind Speed Plot"
   ]
  },
  {
   "cell_type": "code",
   "execution_count": 97,
   "metadata": {},
   "outputs": [
    {
     "data": {
      "image/png": "[encoded data removed]",
      "text/plain": [
       "<Figure size 432x288 with 1 Axes>"
      ]
     },
     "metadata": {
      "needs_background": "light"
     },
     "output_type": "display_data"
    }
   ],
   "source": [
    "city_df.plot(\"Lat\", \"Wind Speed\", kind=\"scatter\", title= \"City Latitude vs. Wind Speed\")\n",
    "plt.grid()\n",
    "plt.savefig('output_data/LatvsWindSpeed.png')\n",
    "plt.show()"
   ]
  },
  {
   "cell_type": "code",
   "execution_count": null,
   "metadata": {},
   "outputs": [],
   "source": [
    "# It seems that the wind speed is uniform and lies between 0-10"
   ]
  },
  {
   "cell_type": "markdown",
   "metadata": {},
   "source": [
    "## Linear Regression"
   ]
  },
  {
   "cell_type": "code",
   "execution_count": 102,
   "metadata": {},
   "outputs": [
    {
     "data": {
      "text/html": [
       "<div>\n",
       "<style scoped>\n",
       "    .dataframe tbody tr th:only-of-type {\n",
       "        vertical-align: middle;\n",
       "    }\n",
       "\n",
       "    .dataframe tbody tr th {\n",
       "        vertical-align: top;\n",
       "    }\n",
       "\n",
       "    .dataframe thead th {\n",
       "        text-align: right;\n",
       "    }\n",
       "</style>\n",
       "<table border=\"1\" class=\"dataframe\">\n",
       "  <thead>\n",
       "    <tr style=\"text-align: right;\">\n",
       "      <th></th>\n",
       "      <th>City</th>\n",
       "      <th>Lat</th>\n",
       "      <th>Lng</th>\n",
       "      <th>Max Temp</th>\n",
       "      <th>Humidity</th>\n",
       "      <th>Cloudiness</th>\n",
       "      <th>Wind Speed</th>\n",
       "      <th>Country</th>\n",
       "      <th>Date</th>\n",
       "    </tr>\n",
       "  </thead>\n",
       "  <tbody>\n",
       "    <tr>\n",
       "      <th>0</th>\n",
       "      <td>Busselton</td>\n",
       "      <td>-33.6500</td>\n",
       "      <td>115.3333</td>\n",
       "      <td>293.75</td>\n",
       "      <td>38</td>\n",
       "      <td>8</td>\n",
       "      <td>3.59</td>\n",
       "      <td>AU</td>\n",
       "      <td>1636774888</td>\n",
       "    </tr>\n",
       "    <tr>\n",
       "      <th>2</th>\n",
       "      <td>Kaitangata</td>\n",
       "      <td>-46.2817</td>\n",
       "      <td>169.8464</td>\n",
       "      <td>282.56</td>\n",
       "      <td>97</td>\n",
       "      <td>100</td>\n",
       "      <td>5.98</td>\n",
       "      <td>NZ</td>\n",
       "      <td>1636774889</td>\n",
       "    </tr>\n",
       "    <tr>\n",
       "      <th>3</th>\n",
       "      <td>Esperance</td>\n",
       "      <td>-33.8667</td>\n",
       "      <td>121.9000</td>\n",
       "      <td>291.06</td>\n",
       "      <td>51</td>\n",
       "      <td>100</td>\n",
       "      <td>4.73</td>\n",
       "      <td>AU</td>\n",
       "      <td>1636774889</td>\n",
       "    </tr>\n",
       "    <tr>\n",
       "      <th>5</th>\n",
       "      <td>Hermanus</td>\n",
       "      <td>-34.4187</td>\n",
       "      <td>19.2345</td>\n",
       "      <td>289.76</td>\n",
       "      <td>87</td>\n",
       "      <td>24</td>\n",
       "      <td>3.14</td>\n",
       "      <td>ZA</td>\n",
       "      <td>1636774890</td>\n",
       "    </tr>\n",
       "    <tr>\n",
       "      <th>11</th>\n",
       "      <td>Lebu</td>\n",
       "      <td>-37.6167</td>\n",
       "      <td>-73.6500</td>\n",
       "      <td>283.72</td>\n",
       "      <td>86</td>\n",
       "      <td>47</td>\n",
       "      <td>4.04</td>\n",
       "      <td>CL</td>\n",
       "      <td>1636774892</td>\n",
       "    </tr>\n",
       "  </tbody>\n",
       "</table>\n",
       "</div>"
      ],
      "text/plain": [
       "          City      Lat       Lng  Max Temp  Humidity  Cloudiness  Wind Speed  \\\n",
       "0    Busselton -33.6500  115.3333    293.75        38           8        3.59   \n",
       "2   Kaitangata -46.2817  169.8464    282.56        97         100        5.98   \n",
       "3    Esperance -33.8667  121.9000    291.06        51         100        4.73   \n",
       "5     Hermanus -34.4187   19.2345    289.76        87          24        3.14   \n",
       "11        Lebu -37.6167  -73.6500    283.72        86          47        4.04   \n",
       "\n",
       "   Country        Date  \n",
       "0       AU  1636774888  \n",
       "2       NZ  1636774889  \n",
       "3       AU  1636774889  \n",
       "5       ZA  1636774890  \n",
       "11      CL  1636774892  "
      ]
     },
     "execution_count": 102,
     "metadata": {},
     "output_type": "execute_result"
    }
   ],
   "source": [
    "#Creating dataframes for northern and souther hemispheres\n",
    "north_df = city_df.loc[city_df[\"Lat\"] >= 0]\n",
    "south_df = city_df.loc[city_df[\"Lat\"] < 0]"
   ]
  },
  {
   "cell_type": "markdown",
   "metadata": {},
   "source": [
    "####  Northern Hemisphere - Max Temp vs. Latitude Linear Regression"
   ]
  },
  {
   "cell_type": "code",
   "execution_count": 114,
   "metadata": {},
   "outputs": [
    {
     "name": "stdout",
     "output_type": "stream",
     "text": [
      "The r-value is: 0.7819749698940481\n"
     ]
    },
    {
     "data": {
      "image/png": "[encoded data removed]",
      "text/plain": [
       "<Figure size 432x288 with 1 Axes>"
      ]
     },
     "metadata": {
      "needs_background": "light"
     },
     "output_type": "display_data"
    }
   ],
   "source": [
    "x_values = north_df[\"Lat\"]\n",
    "y_values = north_df[\"Max Temp\"]\n",
    "(slope, intercept, rvalue, pvalue, stderr) = linregress(x_values, y_values)\n",
    "regress_values = x_values * slope + intercept\n",
    "line_eq = \"y = \" + str(round(slope,2)) + \"x + \" + str(round(intercept,2))\n",
    "plt.scatter(x_values,y_values)\n",
    "plt.plot(x_values,regress_values,\"r-\")\n",
    "plt.annotate(line_eq,(0,250),fontsize=15,color=\"red\")\n",
    "plt.xlabel(\"Latitude\")\n",
    "plt.ylabel(\"Max Temp\")\n",
    "plt.title(\"Max Temp vs. Latitude\")\n",
    "print(f\"The r-value is: {rvalue**2}\")\n",
    "plt.show()"
   ]
  },
  {
   "cell_type": "code",
   "execution_count": null,
   "metadata": {},
   "outputs": [],
   "source": [
    "# Lie our first plot, there is a negative correlation between latitutde and max temp, with max temp decreasing as latitude decreases."
   ]
  },
  {
   "cell_type": "markdown",
   "metadata": {},
   "source": [
    "####  Southern Hemisphere - Max Temp vs. Latitude Linear Regression"
   ]
  },
  {
   "cell_type": "code",
   "execution_count": 115,
   "metadata": {},
   "outputs": [
    {
     "name": "stdout",
     "output_type": "stream",
     "text": [
      "The r-value is: 0.4641640612132439\n"
     ]
    },
    {
     "data": {
      "image/png": "[encoded data removed]",
      "text/plain": [
       "<Figure size 432x288 with 1 Axes>"
      ]
     },
     "metadata": {
      "needs_background": "light"
     },
     "output_type": "display_data"
    }
   ],
   "source": [
    "x_values = south_df[\"Lat\"]\n",
    "y_values = south_df[\"Max Temp\"]\n",
    "(slope, intercept, rvalue, pvalue, stderr) = linregress(x_values, y_values)\n",
    "regress_values = x_values * slope + intercept\n",
    "line_eq = \"y = \" + str(round(slope,2)) + \"x + \" + str(round(intercept,2))\n",
    "plt.scatter(x_values,y_values)\n",
    "plt.plot(x_values,regress_values,\"r-\")\n",
    "plt.annotate(line_eq,(-50,305),fontsize=15,color=\"red\")\n",
    "plt.xlabel(\"Latitude\")\n",
    "plt.ylabel(\"Max Temp\")\n",
    "plt.title(\"Max Temp vs. Latitude\")\n",
    "print(f\"The r-value is: {rvalue**2}\")\n",
    "plt.show()"
   ]
  },
  {
   "cell_type": "code",
   "execution_count": null,
   "metadata": {},
   "outputs": [],
   "source": [
    "# It seems that in the southern hemisphere, as the latitude increases, the max temp also increases."
   ]
  },
  {
   "cell_type": "markdown",
   "metadata": {},
   "source": [
    "####  Northern Hemisphere - Humidity (%) vs. Latitude Linear Regression"
   ]
  },
  {
   "cell_type": "code",
   "execution_count": 116,
   "metadata": {},
   "outputs": [
    {
     "name": "stdout",
     "output_type": "stream",
     "text": [
      "The r-value is: 0.06544360609652075\n"
     ]
    },
    {
     "data": {
      "image/png": "[encoded data removed]",
      "text/plain": [
       "<Figure size 432x288 with 1 Axes>"
      ]
     },
     "metadata": {
      "needs_background": "light"
     },
     "output_type": "display_data"
    }
   ],
   "source": [
    "x_values = north_df[\"Lat\"]\n",
    "y_values = north_df[\"Humidity\"]\n",
    "(slope, intercept, rvalue, pvalue, stderr) = linregress(x_values, y_values)\n",
    "regress_values = x_values * slope + intercept\n",
    "line_eq = \"y = \" + str(round(slope,2)) + \"x + \" + str(round(intercept,2))\n",
    "plt.scatter(x_values,y_values)\n",
    "plt.plot(x_values,regress_values,\"r-\")\n",
    "plt.annotate(line_eq,(40,20),fontsize=15,color=\"red\")\n",
    "plt.xlabel(\"Latitude\")\n",
    "plt.ylabel(\"Humidity\")\n",
    "plt.title(\"Humidity vs. Latitude\")\n",
    "print(f\"The r-value is: {rvalue**2}\")\n",
    "plt.show()"
   ]
  },
  {
   "cell_type": "code",
   "execution_count": null,
   "metadata": {},
   "outputs": [],
   "source": [
    "# There seems to be a week positive correlation between latitude and humidity in the northern hemisphere"
   ]
  },
  {
   "cell_type": "markdown",
   "metadata": {},
   "source": [
    "####  Southern Hemisphere - Humidity (%) vs. Latitude Linear Regression"
   ]
  },
  {
   "cell_type": "code",
   "execution_count": 117,
   "metadata": {},
   "outputs": [
    {
     "name": "stdout",
     "output_type": "stream",
     "text": [
      "The r-value is: 0.0011485993634379535\n"
     ]
    },
    {
     "data": {
      "image/png": "[encoded data removed]",
      "text/plain": [
       "<Figure size 432x288 with 1 Axes>"
      ]
     },
     "metadata": {
      "needs_background": "light"
     },
     "output_type": "display_data"
    }
   ],
   "source": [
    "x_values = south_df[\"Lat\"]\n",
    "y_values = south_df[\"Humidity\"]\n",
    "(slope, intercept, rvalue, pvalue, stderr) = linregress(x_values, y_values)\n",
    "regress_values = x_values * slope + intercept\n",
    "line_eq = \"y = \" + str(round(slope,2)) + \"x + \" + str(round(intercept,2))\n",
    "plt.scatter(x_values,y_values)\n",
    "plt.plot(x_values,regress_values,\"r-\")\n",
    "plt.annotate(line_eq,(-50,20),fontsize=15,color=\"red\")\n",
    "plt.xlabel(\"Latitude\")\n",
    "plt.ylabel(\"Humidity\")\n",
    "plt.title(\"Max Temp vs. Humidity\")\n",
    "print(f\"The r-value is: {rvalue**2}\")\n",
    "plt.show()"
   ]
  },
  {
   "cell_type": "code",
   "execution_count": null,
   "metadata": {},
   "outputs": [],
   "source": [
    "# Humidity and latitude seem to have little to no correlation in the southern hemisphere"
   ]
  },
  {
   "cell_type": "markdown",
   "metadata": {},
   "source": [
    "####  Northern Hemisphere - Cloudiness (%) vs. Latitude Linear Regression"
   ]
  },
  {
   "cell_type": "code",
   "execution_count": 118,
   "metadata": {},
   "outputs": [
    {
     "name": "stdout",
     "output_type": "stream",
     "text": [
      "The r-value is: 0.050852393182169574\n"
     ]
    },
    {
     "data": {
      "image/png": "[encoded data removed]",
      "text/plain": [
       "<Figure size 432x288 with 1 Axes>"
      ]
     },
     "metadata": {
      "needs_background": "light"
     },
     "output_type": "display_data"
    }
   ],
   "source": [
    "x_values = north_df[\"Lat\"]\n",
    "y_values = north_df[\"Cloudiness\"]\n",
    "(slope, intercept, rvalue, pvalue, stderr) = linregress(x_values, y_values)\n",
    "regress_values = x_values * slope + intercept\n",
    "line_eq = \"y = \" + str(round(slope,2)) + \"x + \" + str(round(intercept,2))\n",
    "plt.scatter(x_values,y_values)\n",
    "plt.plot(x_values,regress_values,\"r-\")\n",
    "plt.annotate(line_eq,(40,20),fontsize=15,color=\"red\")\n",
    "plt.xlabel(\"Latitude\")\n",
    "plt.ylabel(\"Cloudiness\")\n",
    "plt.title(\"Humidity vs. Cloudiness\")\n",
    "print(f\"The r-value is: {rvalue**2}\")\n",
    "plt.show()"
   ]
  },
  {
   "cell_type": "code",
   "execution_count": null,
   "metadata": {},
   "outputs": [],
   "source": [
    "# According to the linear regression, there seems to be a weak correlation between latitude and cloudiness in the northern hemisphere"
   ]
  },
  {
   "cell_type": "markdown",
   "metadata": {},
   "source": [
    "####  Southern Hemisphere - Cloudiness (%) vs. Latitude Linear Regression"
   ]
  },
  {
   "cell_type": "code",
   "execution_count": 120,
   "metadata": {},
   "outputs": [
    {
     "name": "stdout",
     "output_type": "stream",
     "text": [
      "The r-value is: 0.018052068997890126\n"
     ]
    },
    {
     "data": {
      "image/png": "[encoded data removed]",
      "text/plain": [
       "<Figure size 432x288 with 1 Axes>"
      ]
     },
     "metadata": {
      "needs_background": "light"
     },
     "output_type": "display_data"
    }
   ],
   "source": [
    "x_values = south_df[\"Lat\"]\n",
    "y_values = south_df[\"Cloudiness\"]\n",
    "(slope, intercept, rvalue, pvalue, stderr) = linregress(x_values, y_values)\n",
    "regress_values = x_values * slope + intercept\n",
    "line_eq = \"y = \" + str(round(slope,2)) + \"x + \" + str(round(intercept,2))\n",
    "plt.scatter(x_values,y_values)\n",
    "plt.plot(x_values,regress_values,\"r-\")\n",
    "plt.annotate(line_eq,(-40,20),fontsize=15,color=\"red\")\n",
    "plt.xlabel(\"Latitude\")\n",
    "plt.ylabel(\"Cloudiness\")\n",
    "plt.title(\"Humidity vs. Cloudiness\")\n",
    "print(f\"The r-value is: {rvalue**2}\")\n",
    "plt.show()"
   ]
  },
  {
   "cell_type": "code",
   "execution_count": null,
   "metadata": {},
   "outputs": [],
   "source": [
    "# Just like the figure above, the linear regression seems to have a weak positive correlation"
   ]
  },
  {
   "cell_type": "markdown",
   "metadata": {},
   "source": [
    "####  Northern Hemisphere - Wind Speed (mph) vs. Latitude Linear Regression"
   ]
  },
  {
   "cell_type": "code",
   "execution_count": 121,
   "metadata": {},
   "outputs": [
    {
     "name": "stdout",
     "output_type": "stream",
     "text": [
      "The r-value is: 0.026339040166066155\n"
     ]
    },
    {
     "data": {
      "image/png": "[encoded data removed]",
      "text/plain": [
       "<Figure size 432x288 with 1 Axes>"
      ]
     },
     "metadata": {
      "needs_background": "light"
     },
     "output_type": "display_data"
    }
   ],
   "source": [
    "x_values = north_df[\"Lat\"]\n",
    "y_values = north_df[\"Wind Speed\"]\n",
    "(slope, intercept, rvalue, pvalue, stderr) = linregress(x_values, y_values)\n",
    "regress_values = x_values * slope + intercept\n",
    "line_eq = \"y = \" + str(round(slope,2)) + \"x + \" + str(round(intercept,2))\n",
    "plt.scatter(x_values,y_values)\n",
    "plt.plot(x_values,regress_values,\"r-\")\n",
    "plt.annotate(line_eq,(40,20),fontsize=15,color=\"red\")\n",
    "plt.xlabel(\"Latitude\")\n",
    "plt.ylabel(\"Wind Speed\")\n",
    "plt.title(\"Humidity vs. Wind Speed\")\n",
    "print(f\"The r-value is: {rvalue**2}\")\n",
    "plt.show()"
   ]
  },
  {
   "cell_type": "code",
   "execution_count": null,
   "metadata": {},
   "outputs": [],
   "source": [
    "# There seems to be no correlation between wind speed and latitude in the northern hemisphere"
   ]
  },
  {
   "cell_type": "markdown",
   "metadata": {},
   "source": [
    "####  Southern Hemisphere - Wind Speed (mph) vs. Latitude Linear Regression"
   ]
  },
  {
   "cell_type": "code",
   "execution_count": 123,
   "metadata": {},
   "outputs": [
    {
     "name": "stdout",
     "output_type": "stream",
     "text": [
      "The r-value is: 0.07944584202627006\n"
     ]
    },
    {
     "data": {
      "image/png": "[encoded data removed]",
      "text/plain": [
       "<Figure size 432x288 with 1 Axes>"
      ]
     },
     "metadata": {
      "needs_background": "light"
     },
     "output_type": "display_data"
    }
   ],
   "source": [
    "x_values = south_df[\"Lat\"]\n",
    "y_values = south_df[\"Wind Speed\"]\n",
    "(slope, intercept, rvalue, pvalue, stderr) = linregress(x_values, y_values)\n",
    "regress_values = x_values * slope + intercept\n",
    "line_eq = \"y = \" + str(round(slope,2)) + \"x + \" + str(round(intercept,2))\n",
    "plt.scatter(x_values,y_values)\n",
    "plt.plot(x_values,regress_values,\"r-\")\n",
    "plt.annotate(line_eq,(-40,10),fontsize=15,color=\"red\")\n",
    "plt.xlabel(\"Latitude\")\n",
    "plt.ylabel(\"Wind Speed\")\n",
    "plt.title(\"Humidity vs. Wind Speed\")\n",
    "print(f\"The r-value is: {rvalue**2}\")\n",
    "plt.show()"
   ]
  },
  {
   "cell_type": "code",
   "execution_count": null,
   "metadata": {},
   "outputs": [],
   "source": [
    "# Just like the linear regression plot above, there seems to be no correlation between wind speed and latitude"
   ]
  }
 ],
 "metadata": {
  "anaconda-cloud": {},
  "kernel_info": {
   "name": "python3"
  },
  "kernelspec": {
   "display_name": "Python [conda env:PythonData] *",
   "language": "python",
   "name": "conda-env-PythonData-py"
  },
  "language_info": {
   "codemirror_mode": {
    "name": "ipython",
    "version": 3
   },
   "file_extension": ".py",
   "mimetype": "text/x-python",
   "name": "python",
   "nbconvert_exporter": "python",
   "pygments_lexer": "ipython3",
   "version": "3.6.10"
  },
  "latex_envs": {
   "LaTeX_envs_menu_present": true,
   "autoclose": false,
   "autocomplete": true,
   "bibliofile": "biblio.bib",
   "cite_by": "apalike",
   "current_citInitial": 1,
   "eqLabelWithNumbers": true,
   "eqNumInitial": 1,
   "hotkeys": {
    "equation": "Ctrl-E",
    "itemize": "Ctrl-I"
   },
   "labels_anchors": false,
   "latex_user_defs": false,
   "report_style_numbering": false,
   "user_envs_cfg": false
  },
  "nteract": {
   "version": "0.12.3"
  }
 },
 "nbformat": 4,
 "nbformat_minor": 2
}
